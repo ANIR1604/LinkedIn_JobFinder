{
  "nbformat": 4,
  "nbformat_minor": 0,
  "metadata": {
    "colab": {
      "provenance": [],
      "authorship_tag": "ABX9TyMS2X02ev+jxogV9yzW5/qJ",
      "include_colab_link": true
    },
    "kernelspec": {
      "name": "python3",
      "display_name": "Python 3"
    },
    "language_info": {
      "name": "python"
    }
  },
  "cells": [
    {
      "cell_type": "markdown",
      "metadata": {
        "id": "view-in-github",
        "colab_type": "text"
      },
      "source": [
        "<a href=\"https://colab.research.google.com/github/ANIR1604/LinkedIn_JobFinder/blob/main/LinkedIN_JobFinder.ipynb\" target=\"_parent\"><img src=\"https://colab.research.google.com/assets/colab-badge.svg\" alt=\"Open In Colab\"/></a>"
      ]
    },
    {
      "cell_type": "code",
      "execution_count": null,
      "metadata": {
        "id": "pLUqKW5w9pt3"
      },
      "outputs": [],
      "source": [
        "import random\n",
        "import pandas as pd\n",
        "import requests\n",
        "from bs4 import BeautifulSoup"
      ]
    },
    {
      "cell_type": "code",
      "source": [
        "title = input(\"Enter a job title: \")\n",
        "location = input(\"Enter a location: \")\n",
        "start = 0\n",
        "end = int(input(\"Enter the number of pages you want to scrap: \"))"
      ],
      "metadata": {
        "id": "lKBBQC55_XFT"
      },
      "execution_count": null,
      "outputs": []
    },
    {
      "cell_type": "code",
      "source": [
        "all_jobs = []\n",
        "while start < end:\n",
        "    list_url = f\"https://www.linkedin.com/jobs-guest/jobs/api/seeMoreJobPostings/search?keywords={title}&location={location}&start={start}\"\n",
        "    response = requests.get(list_url)\n",
        "    list_data = response.text\n",
        "    list_soup = BeautifulSoup(list_data, \"html.parser\")\n",
        "    page_jobs = list_soup.find_all(\"li\")\n",
        "    for job in page_jobs:\n",
        "        all_jobs.append(job)\n",
        "\n",
        "    start += 1"
      ],
      "metadata": {
        "id": "TeEIWjQeAi3T"
      },
      "execution_count": null,
      "outputs": []
    },
    {
      "cell_type": "code",
      "source": [
        "user_id = []"
      ],
      "metadata": {
        "id": "B6R_c6Y6Aqc2"
      },
      "execution_count": null,
      "outputs": []
    },
    {
      "cell_type": "code",
      "source": [
        "for job in all_jobs:\n",
        "    base_card_div = job.find(\"div\", {\"class\": \"base-card relative w-full hover:no-underline focus:no-underline base-card--link base-search-card base-search-card--link job-search-card\"})\n",
        "    job_id = base_card_div.get(\"data-entity-urn\").split(\":\")[3]\n",
        "    user_id.append(job_id)"
      ],
      "metadata": {
        "id": "6ZE4yB9SAuC3"
      },
      "execution_count": null,
      "outputs": []
    },
    {
      "cell_type": "code",
      "source": [
        "job = []\n",
        "for job_id in user_id:\n",
        "    job_url = f\"https://www.linkedin.com/jobs-guest/jobs/api/jobPosting/{job_id}\"\n",
        "    job_response = requests.get(job_url)\n",
        "    job_soup = BeautifulSoup(job_response.text, \"html.parser\")\n",
        "    job_post = {}\n",
        "    try:\n",
        "        job_post[\"Job Title\"] = job_soup.find(\"h2\", {\"class\":\"top-card-layout__title font-sans text-lg papabear:text-xl font-bold leading-open text-color-text mb-0 topcard__title\"}).text.strip()\n",
        "    except:\n",
        "        job_post[\"Job Title\"] = None\n",
        "    try:\n",
        "        job_post[\"Company Name\"] = job_soup.find(\"a\", {\"class\": \"topcard__org-name-link topcard__flavor--black-link\"}).text.strip()\n",
        "    except:\n",
        "        job_post[\"Company Name\"] = None\n",
        "    try:\n",
        "        job_post[\"Location\"] = job_soup.find(\"span\", {\"class\": \"topcard__flavor topcard__flavor--bullet\"}).text.strip()\n",
        "    except:\n",
        "        job_post[\"Location\"] = None\n",
        "    try:\n",
        "        job_post[\"Time Posted\"] = job_soup.find(\"span\", {\"class\": \"posted-time-ago__text topcard__flavor--metadata\"}).text.strip()\n",
        "    except:\n",
        "        job_post[\"Time Posted\"] = None\n",
        "    try:\n",
        "        job_post[\"Num Applicants\"] = job_soup.find(\"figcaption\", {\"class\": \"num-applicants__caption\"}).text.strip()\n",
        "    except:\n",
        "        job_post[\"Num Applicants\"] = None\n",
        "    job.append(job_post)"
      ],
      "metadata": {
        "id": "hzpAcARMAxKu"
      },
      "execution_count": null,
      "outputs": []
    },
    {
      "cell_type": "code",
      "source": [
        "jobs_df = pd.DataFrame(job)\n",
        "jobs_df"
      ],
      "metadata": {
        "id": "WmDBVoorBE0A"
      },
      "execution_count": null,
      "outputs": []
    }
  ]
}